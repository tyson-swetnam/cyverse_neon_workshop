{
 "cells": [
  {
   "cell_type": "markdown",
   "metadata": {},
   "source": [
    "# Import"
   ]
  },
  {
   "cell_type": "code",
   "execution_count": 1,
   "metadata": {},
   "outputs": [],
   "source": [
    "import geemap\n",
    "import json\n",
    "import os\n",
    "import requests\n",
    "from geemap import geojson_to_ee, ee_to_geojson\n",
    "from ipyleaflet import GeoJSON"
   ]
  },
  {
   "cell_type": "markdown",
   "metadata": {},
   "source": [
    "#### Update packages as needed"
   ]
  },
  {
   "cell_type": "code",
   "execution_count": 2,
   "metadata": {},
   "outputs": [],
   "source": [
    "# uncomment next line to run the update\n",
    "\n",
    "# geemap.update_package() "
   ]
  },
  {
   "cell_type": "code",
   "execution_count": 3,
   "metadata": {},
   "outputs": [
    {
     "data": {
      "application/vnd.jupyter.widget-view+json": {
       "model_id": "c479ff35b4df45adb3157a20db7d5c27",
       "version_major": 2,
       "version_minor": 0
      },
      "text/plain": [
       "Map(center=[40, -100], controls=(WidgetControl(options=['position', 'transparent_bg'], widget=HBox(children=(T…"
      ]
     },
     "metadata": {},
     "output_type": "display_data"
    }
   ],
   "source": [
    "Map = geemap.Map()\n",
    "Map"
   ]
  },
  {
   "cell_type": "markdown",
   "metadata": {},
   "source": [
    "# NEON Sites, AOP boundaries, and Terrestrial Observation Sample Plots\n",
    "\n",
    "In the CyVerse Data Store there are several `.geojson` files cached for the workshop: [https://data.cyverse.org/dav-anon/iplant/projects/NEON_workshop/data](https://data.cyverse.org/dav-anon/iplant/projects/NEON_workshop/data)\n",
    "\n",
    "I created these `geojson` from the hosted ArcGIS shapefiles on the [NEON Science Spatial Data & Maps](https://www.neonscience.org/data/about-data/spatial-data-maps) website in [QGIS](https://qgis.org). \n",
    "\n",
    "| file name | description |\n",
    "|-----------|-------------|\n",
    "| terrestrial_boundaries.geojson | layer with outlines of every NEON site | \n",
    "| AOP_flightboxes.geojson | layer with all of the AOP mission planned flighboxes with priority| \n",
    "| TOS_v4.geojson | layer with all of the terrestrial observation site distributed base plots | "
   ]
  },
  {
   "cell_type": "code",
   "execution_count": 4,
   "metadata": {},
   "outputs": [],
   "source": [
    "file_path = os.path.abspath('terrestrial_boundaries.geojson')\n",
    "\n",
    "if not os.path.exists(file_path):\n",
    "    url = 'https://data.cyverse.org/dav-anon/iplant/projects/NEON_workshop/data/terrestrial_boundaries.geojson'\n",
    "    r = requests.get(url)\n",
    "    with open(file_path, 'w') as f:\n",
    "        f.write(r.content.decode(\"utf-8\"))        \n",
    "\n",
    "with open(file_path) as f:\n",
    "    json_data = json.load(f)"
   ]
  },
  {
   "cell_type": "code",
   "execution_count": 5,
   "metadata": {},
   "outputs": [],
   "source": [
    "file_path = os.path.abspath('AOP_flightboxes.geojson')\n",
    "\n",
    "if not os.path.exists(file_path):\n",
    "    url = 'https://data.cyverse.org/dav-anon/iplant/projects/NEON_workshop/data/AOP_flightboxes.geojson'\n",
    "    r = requests.get(url)\n",
    "    with open(file_path, 'w') as f:\n",
    "        f.write(r.content.decode(\"utf-8\"))        \n",
    "\n",
    "with open(file_path) as f:\n",
    "    json_data = json.load(f)"
   ]
  },
  {
   "cell_type": "code",
   "execution_count": 6,
   "metadata": {},
   "outputs": [],
   "source": [
    "file_path = os.path.abspath('TOS_v4.geojson')\n",
    "\n",
    "if not os.path.exists(file_path):\n",
    "    url = 'https://data.cyverse.org/dav-anon/iplant/projects/NEON_workshop/data/TOS_v4.geojson'\n",
    "    r = requests.get(url)\n",
    "    with open(file_path, 'w') as f:\n",
    "        f.write(r.content.decode(\"utf-8\"))        \n",
    "\n",
    "with open(file_path) as f:\n",
    "    json_data = json.load(f)"
   ]
  },
  {
   "cell_type": "code",
   "execution_count": 7,
   "metadata": {},
   "outputs": [],
   "source": [
    "json_layer = GeoJSON(data=json_data, name='AOP_flightboxes', hover_style={'fillColor': 'red' , 'fillOpacity': 0.5})\n",
    "Map.add_layer(json_layer)"
   ]
  },
  {
   "cell_type": "code",
   "execution_count": 8,
   "metadata": {},
   "outputs": [],
   "source": [
    "ee_data = geojson_to_ee(json_data)\n",
    "Map.addLayer(ee_data, {}, \"NEON AOP flight boxes\")"
   ]
  },
  {
   "cell_type": "code",
   "execution_count": null,
   "metadata": {},
   "outputs": [],
   "source": []
  },
  {
   "cell_type": "code",
   "execution_count": 9,
   "metadata": {},
   "outputs": [
    {
     "data": {
      "application/vnd.jupyter.widget-view+json": {
       "model_id": "0d0ebdc69fe84d388e8605057c750eb6",
       "version_major": 2,
       "version_minor": 0
      },
      "text/plain": [
       "Map(center=[32.25, -111], controls=(ZoomControl(options=['position', 'zoom_in_text', 'zoom_in_title', 'zoom_ou…"
      ]
     },
     "metadata": {},
     "output_type": "display_data"
    }
   ],
   "source": [
    "from ipyleaflet import *\n",
    "\n",
    "m = Map(center=(32.25,-111), zoom=8, basemap=basemaps.Esri.DeLorme)\n",
    "m"
   ]
  },
  {
   "cell_type": "code",
   "execution_count": null,
   "metadata": {},
   "outputs": [],
   "source": []
  }
 ],
 "metadata": {
  "kernelspec": {
   "display_name": "Python 3",
   "language": "python",
   "name": "python3"
  },
  "language_info": {
   "codemirror_mode": {
    "name": "ipython",
    "version": 3
   },
   "file_extension": ".py",
   "mimetype": "text/x-python",
   "name": "python",
   "nbconvert_exporter": "python",
   "pygments_lexer": "ipython3",
   "version": "3.8.6"
  }
 },
 "nbformat": 4,
 "nbformat_minor": 4
}
