{
 "cells": [
  {
   "cell_type": "code",
   "execution_count": 1,
   "metadata": {},
   "outputs": [
    {
     "name": "stdout",
     "output_type": "stream",
     "text": [
      "Directory  tos_plots  Created \n"
     ]
    }
   ],
   "source": [
    "import copy\n",
    "import json\n",
    "import os\n",
    "\n",
    "# Import AOP flightboxes filename\n",
    "JSON_FILENAME = 'TOS_v4.geojson'\n",
    "\n",
    "# Create directory\n",
    "dirName = 'tos_plots'\n",
    "try:\n",
    "    # Create target Directory\n",
    "    os.mkdir(dirName)\n",
    "    print(\"Directory \" , dirName ,  \" Created \") \n",
    "except FileExistsError:\n",
    "    print(\"Directory \" , dirName ,  \" already exists\")\n",
    "\n",
    "# Split AOP flightboxes GeoJSON into individual files    \n",
    "def _get_sites_data(features: list) -> dict:\n",
    "    ret_list = {}\n",
    "    for feature in features:\n",
    "        site_id = feature['properties']['plotID']\n",
    "        if site_id not in ret_list:\n",
    "            ret_list[site_id] = [feature]\n",
    "        else:\n",
    "            ret_list[site_id].append(feature)\n",
    "    return ret_list\n",
    "\n",
    "with open(JSON_FILENAME, 'r') as in_file:\n",
    "    geo_data = json.load(in_file)\n",
    "\n",
    "json_preamble = {}\n",
    "for key, value in geo_data.items():\n",
    "    if key not in ['features']:\n",
    "        json_preamble[key] = value\n",
    "\n",
    "site_list = _get_sites_data(geo_data['features'])\n",
    "\n",
    "for site, site_features in site_list.items():\n",
    "    out_filename = 'tos_plots/'+ site + '.geojson'\n",
    "    site_json = copy.deepcopy(json_preamble)\n",
    "    site_json['features'] = site_features\n",
    "    with open(out_filename, 'w') as out_file:\n",
    "        json.dump(site_json, out_file)"
   ]
  },
  {
   "cell_type": "code",
   "execution_count": 2,
   "metadata": {},
   "outputs": [
    {
     "name": "stdout",
     "output_type": "stream",
     "text": [
      "Directory  neon_sites  Created \n"
     ]
    }
   ],
   "source": [
    "import copy\n",
    "import json\n",
    "import os\n",
    "\n",
    "# Import AOP flightboxes filename\n",
    "JSON_FILENAME = 'terrestrial_boundaries.geojson'\n",
    "\n",
    "# Create directory\n",
    "dirName = 'neon_sites'\n",
    "try:\n",
    "    # Create target Directory\n",
    "    os.mkdir(dirName)\n",
    "    print(\"Directory \" , dirName ,  \" Created \") \n",
    "except FileExistsError:\n",
    "    print(\"Directory \" , dirName ,  \" already exists\")\n",
    "\n",
    "# Split AOP flightboxes GeoJSON into individual files    \n",
    "def _get_sites_data(features: list) -> dict:\n",
    "    ret_list = {}\n",
    "    for feature in features:\n",
    "        site_id = feature['properties']['siteID']\n",
    "        if site_id not in ret_list:\n",
    "            ret_list[site_id] = [feature]\n",
    "        else:\n",
    "            ret_list[site_id].append(feature)\n",
    "    return ret_list\n",
    "\n",
    "with open(JSON_FILENAME, 'r') as in_file:\n",
    "    geo_data = json.load(in_file)\n",
    "\n",
    "json_preamble = {}\n",
    "for key, value in geo_data.items():\n",
    "    if key not in ['features']:\n",
    "        json_preamble[key] = value\n",
    "\n",
    "site_list = _get_sites_data(geo_data['features'])\n",
    "\n",
    "for site, site_features in site_list.items():\n",
    "    out_filename = 'neon_sites/'+ site + '.geojson'\n",
    "    site_json = copy.deepcopy(json_preamble)\n",
    "    site_json['features'] = site_features\n",
    "    with open(out_filename, 'w') as out_file:\n",
    "        json.dump(site_json, out_file)"
   ]
  },
  {
   "cell_type": "code",
   "execution_count": null,
   "metadata": {},
   "outputs": [],
   "source": []
  }
 ],
 "metadata": {
  "kernelspec": {
   "display_name": "Python 3",
   "language": "python",
   "name": "python3"
  },
  "language_info": {
   "codemirror_mode": {
    "name": "ipython",
    "version": 3
   },
   "file_extension": ".py",
   "mimetype": "text/x-python",
   "name": "python",
   "nbconvert_exporter": "python",
   "pygments_lexer": "ipython3",
   "version": "3.8.6"
  }
 },
 "nbformat": 4,
 "nbformat_minor": 4
}
